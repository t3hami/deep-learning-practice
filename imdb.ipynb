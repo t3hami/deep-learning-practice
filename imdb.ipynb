{
 "cells": [
  {
   "cell_type": "code",
   "execution_count": 7,
   "metadata": {},
   "outputs": [
    {
     "data": {
      "text/plain": [
       "550"
      ]
     },
     "execution_count": 7,
     "metadata": {},
     "output_type": "execute_result"
    }
   ],
   "source": [
    "from keras.datasets import imdb\n",
    "\n",
    "(train_data, train_labels), (test_data, test_labels) = imdb.load_data(num_words=10000)\n",
    "len(train_data[3])"
   ]
  },
  {
   "cell_type": "code",
   "execution_count": 15,
   "metadata": {},
   "outputs": [],
   "source": [
    "import numpy as np\n",
    "\n",
    "def vectorize_sequences(sequences, dimension=10000):\n",
    "    results = np.zeros((len(sequences), dimension))\n",
    "    for i, sequence in enumerate(sequences):\n",
    "        results[i, sequence] = 1.\n",
    "    return results\n",
    "\n",
    "x_train = vectorize_sequences(train_data)\n",
    "x_test = vectorize_sequences(test_data)\n",
    "y_train = np.asarray(train_labels).astype('float32')\n",
    "y_test = np.asarray(test_labels).astype('float32')"
   ]
  },
  {
   "cell_type": "code",
   "execution_count": 13,
   "metadata": {},
   "outputs": [],
   "source": [
    "from keras import models\n",
    "from keras import layers\n",
    "\n",
    "model = models.Sequential()\n",
    "model.add(layers.Dense(16, activation='relu', input_shape=(10000,)))\n",
    "model.add(layers.Dense(16, activation='relu'))\n",
    "model.add(layers.Dense(1, activation='sigmoid'))\n",
    "\n",
    "from keras import losses\n",
    "from keras import metrics\n",
    "\n",
    "# model.compile(optimizer=optimizers.RMSprop(lr=0.001),\n",
    "#     loss=losses.binary_crossentropy,\n",
    "#     metrics=[metrics.binary_accuracy])"
   ]
  },
  {
   "cell_type": "code",
   "execution_count": 17,
   "metadata": {},
   "outputs": [],
   "source": [
    "x_val = x_train[:10000]\n",
    "partial_x_train = x_train[10000:]\n",
    "y_val = y_train[:10000]\n",
    "partial_y_train = y_train[10000:]"
   ]
  },
  {
   "cell_type": "code",
   "execution_count": 24,
   "metadata": {},
   "outputs": [
    {
     "name": "stdout",
     "output_type": "stream",
     "text": [
      "Train on 15000 samples, validate on 10000 samples\n",
      "Epoch 1/20\n",
      "15000/15000 [==============================] - 28s 2ms/step - loss: 0.0082 - acc: 0.9983 - val_loss: 0.6892 - val_acc: 0.8674\n",
      "Epoch 2/20\n",
      "15000/15000 [==============================] - 6s 381us/step - loss: 0.0011 - acc: 0.9999 - val_loss: 0.7092 - val_acc: 0.8683\n",
      "Epoch 3/20\n",
      "15000/15000 [==============================] - 5s 358us/step - loss: 0.0012 - acc: 0.9999 - val_loss: 0.8332 - val_acc: 0.8615\n",
      "Epoch 4/20\n",
      "15000/15000 [==============================] - 5s 363us/step - loss: 6.4519e-04 - acc: 1.0000 - val_loss: 0.7754 - val_acc: 0.8676\n",
      "Epoch 5/20\n",
      "15000/15000 [==============================] - 6s 367us/step - loss: 4.0774e-04 - acc: 1.0000 - val_loss: 0.8251 - val_acc: 0.8601\n",
      "Epoch 6/20\n",
      "15000/15000 [==============================] - 5s 361us/step - loss: 0.0010 - acc: 0.9997 - val_loss: 0.8351 - val_acc: 0.8658\n",
      "Epoch 7/20\n",
      "15000/15000 [==============================] - 6s 369us/step - loss: 1.8546e-04 - acc: 1.0000 - val_loss: 0.8622 - val_acc: 0.8645\n",
      "Epoch 8/20\n",
      "15000/15000 [==============================] - 6s 385us/step - loss: 1.4183e-04 - acc: 1.0000 - val_loss: 0.8906 - val_acc: 0.8638\n",
      "Epoch 9/20\n",
      "15000/15000 [==============================] - 6s 370us/step - loss: 0.0014 - acc: 0.9997 - val_loss: 0.9103 - val_acc: 0.8642\n",
      "Epoch 10/20\n",
      "15000/15000 [==============================] - 6s 367us/step - loss: 7.3264e-05 - acc: 1.0000 - val_loss: 0.9287 - val_acc: 0.8636\n",
      "Epoch 11/20\n",
      "15000/15000 [==============================] - 6s 369us/step - loss: 6.0563e-05 - acc: 1.0000 - val_loss: 0.9494 - val_acc: 0.8636\n",
      "Epoch 12/20\n",
      "15000/15000 [==============================] - 5s 363us/step - loss: 4.5957e-05 - acc: 1.0000 - val_loss: 0.9805 - val_acc: 0.8620\n",
      "Epoch 13/20\n",
      "15000/15000 [==============================] - 5s 364us/step - loss: 8.7416e-04 - acc: 0.9997 - val_loss: 1.0081 - val_acc: 0.8596\n",
      "Epoch 14/20\n",
      "15000/15000 [==============================] - 5s 366us/step - loss: 2.6963e-05 - acc: 1.0000 - val_loss: 1.0115 - val_acc: 0.8612\n",
      "Epoch 15/20\n",
      "15000/15000 [==============================] - 6s 398us/step - loss: 2.1612e-05 - acc: 1.0000 - val_loss: 1.0248 - val_acc: 0.8610\n",
      "Epoch 16/20\n",
      "15000/15000 [==============================] - 6s 381us/step - loss: 1.7433e-05 - acc: 1.0000 - val_loss: 1.0449 - val_acc: 0.8608\n",
      "Epoch 17/20\n",
      "15000/15000 [==============================] - 6s 406us/step - loss: 1.1898e-05 - acc: 1.0000 - val_loss: 1.0978 - val_acc: 0.8573\n",
      "Epoch 18/20\n",
      "15000/15000 [==============================] - 6s 433us/step - loss: 0.0017 - acc: 0.9997 - val_loss: 1.1165 - val_acc: 0.8579\n",
      "Epoch 19/20\n",
      "15000/15000 [==============================] - 6s 375us/step - loss: 9.1432e-06 - acc: 1.0000 - val_loss: 1.1057 - val_acc: 0.8596\n",
      "Epoch 20/20\n",
      "15000/15000 [==============================] - 6s 383us/step - loss: 6.3424e-06 - acc: 1.0000 - val_loss: 1.1099 - val_acc: 0.8598\n"
     ]
    }
   ],
   "source": [
    "model.compile(optimizer='rmsprop',\n",
    "    loss='binary_crossentropy',\n",
    "    metrics=['acc'])\n",
    "\n",
    "history = model.fit(partial_x_train,\n",
    "    partial_y_train,\n",
    "    epochs=20,\n",
    "    batch_size=512,\n",
    "    validation_data=(x_val, y_val))"
   ]
  },
  {
   "cell_type": "code",
   "execution_count": 20,
   "metadata": {},
   "outputs": [
    {
     "name": "stdout",
     "output_type": "stream",
     "text": [
      "25000/25000 [==============================] - 19s 778us/step\n",
      "test_acc: 0.855\n"
     ]
    }
   ],
   "source": [
    "test_loss, test_acc = model.evaluate(x_test, y_test)\n",
    "print('test_acc:', test_acc)"
   ]
  },
  {
   "cell_type": "code",
   "execution_count": 29,
   "metadata": {},
   "outputs": [],
   "source": [
    "np.set_printoptions(suppress=True)"
   ]
  },
  {
   "cell_type": "code",
   "execution_count": 30,
   "metadata": {
    "scrolled": true
   },
   "outputs": [
    {
     "data": {
      "text/plain": [
       "array([[0.00000105],\n",
       "       [1.        ],\n",
       "       [0.99991846],\n",
       "       ...,\n",
       "       [0.00003593],\n",
       "       [0.00000252],\n",
       "       [0.9397382 ]], dtype=float32)"
      ]
     },
     "execution_count": 30,
     "metadata": {},
     "output_type": "execute_result"
    }
   ],
   "source": [
    "model.predict(x_test)"
   ]
  }
 ],
 "metadata": {
  "kernelspec": {
   "display_name": "Python 3",
   "language": "python",
   "name": "python3"
  },
  "language_info": {
   "codemirror_mode": {
    "name": "ipython",
    "version": 3
   },
   "file_extension": ".py",
   "mimetype": "text/x-python",
   "name": "python",
   "nbconvert_exporter": "python",
   "pygments_lexer": "ipython3",
   "version": "3.6.2"
  }
 },
 "nbformat": 4,
 "nbformat_minor": 2
}
