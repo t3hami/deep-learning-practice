{
 "cells": [
  {
   "cell_type": "code",
   "execution_count": 16,
   "metadata": {},
   "outputs": [],
   "source": [
    "from keras.datasets import mnist\n",
    "\n",
    "(train_images, train_labels), (test_images, test_labels) = mnist.load_data()"
   ]
  },
  {
   "cell_type": "code",
   "execution_count": 17,
   "metadata": {},
   "outputs": [
    {
     "data": {
      "text/plain": [
       "7"
      ]
     },
     "execution_count": 17,
     "metadata": {},
     "output_type": "execute_result"
    }
   ],
   "source": [
    "test_labels[0]"
   ]
  },
  {
   "cell_type": "code",
   "execution_count": 18,
   "metadata": {},
   "outputs": [],
   "source": [
    "from keras import models\n",
    "from keras import layers\n",
    "\n",
    "network = models.Sequential()\n",
    "network.add(layers.Dense(512, activation='relu', input_shape=(28 * 28,)))\n",
    "network.add(layers.Dense(10, activation='softmax'))\n",
    "\n",
    "network.compile(optimizer='rmsprop',\n",
    "                loss='categorical_crossentropy',\n",
    "                metrics=['accuracy'])"
   ]
  },
  {
   "cell_type": "code",
   "execution_count": 19,
   "metadata": {},
   "outputs": [],
   "source": [
    "train_images = train_images.reshape((60000, 28 * 28))\n",
    "train_images = train_images.astype('float32') / 255\n",
    "test_images = test_images.reshape((10000, 28 * 28))\n",
    "test_images = test_images.astype('float32') / 255\n",
    "\n",
    "from keras.utils import to_categorical\n",
    "train_labels = to_categorical(train_labels)\n",
    "test_labels = to_categorical(test_labels)"
   ]
  },
  {
   "cell_type": "code",
   "execution_count": 20,
   "metadata": {},
   "outputs": [
    {
     "name": "stdout",
     "output_type": "stream",
     "text": [
      "Epoch 1/5\n",
      "60000/60000 [==============================] - 8s 131us/step - loss: 0.2562 - acc: 0.9256\n",
      "Epoch 2/5\n",
      "60000/60000 [==============================] - 8s 125us/step - loss: 0.1020 - acc: 0.9698\n",
      "Epoch 3/5\n",
      "60000/60000 [==============================] - 8s 132us/step - loss: 0.0670 - acc: 0.9796\n",
      "Epoch 4/5\n",
      "60000/60000 [==============================] - 8s 137us/step - loss: 0.0482 - acc: 0.9856\n",
      "Epoch 5/5\n",
      "60000/60000 [==============================] - 8s 131us/step - loss: 0.0359 - acc: 0.9891\n"
     ]
    },
    {
     "data": {
      "text/plain": [
       "<keras.callbacks.History at 0x29226704e80>"
      ]
     },
     "execution_count": 20,
     "metadata": {},
     "output_type": "execute_result"
    }
   ],
   "source": [
    "network.fit(train_images, train_labels, epochs=5, batch_size=128)"
   ]
  },
  {
   "cell_type": "code",
   "execution_count": 21,
   "metadata": {},
   "outputs": [
    {
     "name": "stdout",
     "output_type": "stream",
     "text": [
      "10000/10000 [==============================] - 1s 84us/step\n",
      "test_acc: 0.9764\n"
     ]
    }
   ],
   "source": [
    "test_loss, test_acc = network.evaluate(test_images, test_labels)\n",
    "print('test_acc:', test_acc)"
   ]
  },
  {
   "cell_type": "code",
   "execution_count": 23,
   "metadata": {},
   "outputs": [
    {
     "data": {
      "text/plain": [
       "array([[7.9135548e-10, 1.7700857e-10, 9.6019306e-08, 5.8084843e-06,\n",
       "        2.6974332e-13, 2.5464479e-08, 8.8869744e-16, 9.9999392e-01,\n",
       "        1.0291033e-08, 1.4483653e-07],\n",
       "       [1.3603650e-10, 2.5554800e-07, 9.9999976e-01, 4.2495824e-08,\n",
       "        5.2304495e-18, 5.5468413e-10, 6.9317038e-11, 2.3884251e-18,\n",
       "        1.4744423e-09, 4.1893687e-19]], dtype=float32)"
      ]
     },
     "execution_count": 23,
     "metadata": {},
     "output_type": "execute_result"
    }
   ],
   "source": [
    "network.predict(test_images[0:2])"
   ]
  },
  {
   "cell_type": "code",
   "execution_count": 25,
   "metadata": {},
   "outputs": [
    {
     "data": {
      "text/plain": [
       "array([[0., 0., 0., 0., 0., 0., 0., 1., 0., 0.],\n",
       "       [0., 0., 1., 0., 0., 0., 0., 0., 0., 0.]], dtype=float32)"
      ]
     },
     "execution_count": 25,
     "metadata": {},
     "output_type": "execute_result"
    }
   ],
   "source": [
    "test_labels[0:2]"
   ]
  },
  {
   "cell_type": "code",
   "execution_count": 32,
   "metadata": {},
   "outputs": [
    {
     "data": {
      "image/png": "[encoded data removed]",
      "text/plain": [
       "<Figure size 432x288 with 1 Axes>"
      ]
     },
     "metadata": {
      "needs_background": "light"
     },
     "output_type": "display_data"
    }
   ],
   "source": [
    "digit = train_images[4].reshape((28,28))\n",
    "import matplotlib.pyplot as plt\n",
    "plt.imshow(digit, cmap=plt.cm.binary)\n",
    "plt.show()"
   ]
  },
  {
   "cell_type": "code",
   "execution_count": 40,
   "metadata": {},
   "outputs": [
    {
     "data": {
      "text/plain": [
       "array([ 4.12977010e+030,  2.68221883e+154,  5.93185986e+014,\n",
       "        5.07812980e-299,  3.52448725e-294,  2.82337807e-289,\n",
       "        8.31379949e-275,  5.92546039e-270,  2.95105942e-260,\n",
       "        3.57379255e-265,  1.22399862e-250,  5.37707035e-299,\n",
       "        1.04736369e-279,  1.22416777e-250,  1.22416778e-250,\n",
       "        1.22416778e-250,  1.22416778e-250,  1.22416778e-250,\n",
       "        1.22416778e-250, -1.27168753e+005,  1.60355977e-289,\n",
       "        1.00277173e-226,  7.29133759e-304,  1.39612477e-309,\n",
       "        7.29112202e-304,  3.72581469e-265,  2.32340029e-308,\n",
       "        1.59847339e-284,  1.69176816e-301,  2.20197258e-149,\n",
       "        9.36179795e-145,  6.46362719e-140,  9.47736107e-131,\n",
       "        1.84271779e-197,  2.00863649e-110,  3.18316009e-028,\n",
       "        7.39003555e+049,  1.71566266e+127,  3.98303947e+204,\n",
       "        9.24686829e+281, -6.64264400e-258, -2.26078378e-185,\n",
       "       -7.68317102e-113, -2.60695587e-040, -8.83039813e+032,\n",
       "       -2.98548086e+105, -1.45942294e+173, -5.60815648e+240,\n",
       "       -3.54087337e+279,  3.13237018e-294,  7.74860419e-304,\n",
       "        7.29112202e-304,  3.72581469e-265,  2.46246740e-308,\n",
       "        7.22503055e-275,  2.04776464e-306,  4.81637422e-072,\n",
       "        5.04136724e-215, -5.39877917e-147,  5.20561644e-203,\n",
       "       -1.76977439e+160,  4.27959075e-120,  4.66376857e-033,\n",
       "        1.08285354e+045,  2.51419841e+122,  5.83749457e+199,\n",
       "        1.35534719e+277, -1.42499146e-267, -4.83403088e-195,\n",
       "       -1.63701130e-122, -5.53314280e-050, -1.86634173e+023,\n",
       "       -6.27183915e+095, -1.58335208e+168, -1.03980262e+207,\n",
       "       -3.54087337e+279,  1.40722280e-309, -1.29698443e+294,\n",
       "        2.16296113e-113,  2.16296113e-113,  2.16296113e-113,\n",
       "        2.16296113e-113,  2.16296113e-113,  2.16296113e-113,\n",
       "        2.16296113e-113,  2.16296113e-113,  2.16296113e-113,\n",
       "        2.16296113e-113,  2.16296113e-113,  2.16296113e-113,\n",
       "        2.16296113e-113,  2.16296113e-113,  2.16296113e-113,\n",
       "        2.16296113e-113,  2.16296113e-113,  2.16296113e-113,\n",
       "        2.72876126e+207, -2.06181170e-258, -5.18724089e+013,\n",
       "       -6.04992372e+275,  5.79045715e+043, -9.23753418e-304,\n",
       "       -3.00848087e+158, -1.04833090e+305, -7.72504391e+270,\n",
       "        3.58570400e-152,  1.15742956e-009,  2.55251879e+178,\n",
       "        1.92628341e+031, -6.88167651e+289, -9.88510151e-265,\n",
       "        2.24870194e-070,  3.63470638e+087, -5.23295964e-047,\n",
       "        7.40943690e+074,  2.19400487e+306,  9.69986163e-203,\n",
       "        2.24884080e+089, -8.38241911e+154, -3.29946613e+271,\n",
       "       -1.12260394e-274,  2.00029817e-183, -1.35162112e+235,\n",
       "       -2.70729256e+271,  7.78032489e-244, -2.66413343e+101,\n",
       "       -4.70642501e-025, -3.25117690e+199,  1.77724685e-088,\n",
       "        6.01483398e-162,  3.52566755e+096, -9.47670246e+280,\n",
       "       -5.21938896e+106, -1.37147170e+245,  2.29087229e+120,\n",
       "        2.97015900e-293,  2.18206155e-162, -3.01190821e-050,\n",
       "        6.22387460e-047,  3.06777394e-292,  9.61060045e-001,\n",
       "        1.03863237e-048,  2.06802372e+276,  6.59780499e+123,\n",
       "        5.64048655e+307,  2.46275333e+048, -4.74865081e-203,\n",
       "        2.83010827e-079, -1.70653606e+082,  3.23689823e+203,\n",
       "        2.74234253e-195,  6.64711795e+077, -1.22804993e-032,\n",
       "       -6.06072949e+076, -9.94827186e-161, -1.97046797e+225,\n",
       "        6.73805048e-267,  2.99476468e-305,  1.00628481e+076,\n",
       "       -1.18082131e+022, -5.48803393e+219, -4.35869870e+161,\n",
       "       -8.21527142e+152,  2.12472138e+000,  7.24424239e-304,\n",
       "        4.07750099e-039, -7.74076715e+292, -1.89344120e-270,\n",
       "       -7.03973377e+192,  3.26185854e+096,  2.12942539e+293,\n",
       "        5.00691299e+123,  4.95245473e+041, -6.77596175e+156,\n",
       "       -1.25807065e-159,  4.40710539e-243, -1.55184647e+067,\n",
       "       -2.28125151e-135,  1.48869395e+052,  3.31912951e+153,\n",
       "       -1.58814595e-064, -3.90231994e+275, -6.40561896e-069,\n",
       "       -2.34409349e-043, -1.04394625e+291, -5.02314136e-057,\n",
       "        6.17840609e-001,  1.61126661e-131, -1.82035225e+279,\n",
       "       -7.35461208e+306,  4.43295829e+195,  1.33954627e-225,\n",
       "       -2.20431580e+110,  3.54220566e+117, -2.37579968e-206,\n",
       "       -2.06637612e+284,  7.15283008e+151, -1.04858787e-035,\n",
       "        1.37148357e-176,  5.96904238e-215, -3.54652033e+301,\n",
       "        6.71931261e+240, -4.48226505e+271,  7.47408572e-183,\n",
       "       -4.51640994e+093, -3.62376829e+123,  9.63466805e+002,\n",
       "        5.88933848e-044,  4.94141626e-296,  4.94141626e-296,\n",
       "        4.94141626e-296,  4.94141626e-296,  4.94141626e-296,\n",
       "        4.94141626e-296,  4.94141626e-296, -2.84885758e+154,\n",
       "       -1.95694533e+233,  6.33877872e-239,  4.59461532e+073,\n",
       "       -7.71686706e-212, -9.02921041e+301, -2.93332704e+006,\n",
       "        4.89934799e-178,  1.72894929e+144, -1.87796634e-198,\n",
       "       -1.62467346e+126,  1.22687380e-045,  1.40768905e+281,\n",
       "       -5.07659850e-299,  9.16974783e-203,  1.31533566e-049,\n",
       "        8.60512973e-091, -4.02828784e+270,  1.92260533e-293,\n",
       "       -1.58573225e+094,  4.04110902e-128, -1.92121514e+273,\n",
       "        7.70261139e+305, -1.41228148e+051, -9.46089381e-011,\n",
       "       -4.95936742e+019, -1.37256696e-152, -8.52851173e+034,\n",
       "        1.28836150e-048,  2.41657973e-212,  2.41657973e-212,\n",
       "        2.41657973e-212,  2.41657973e-212,  2.41657973e-212,\n",
       "        2.41657973e-212,  2.41657973e-212,  3.74898191e-001,\n",
       "        6.84826603e-015,  1.10455783e-187,  3.58807229e-063,\n",
       "        1.78167614e+051, -2.48234043e+029, -3.87436627e-282,\n",
       "        1.04498975e-178, -6.97891593e-220,  1.46727143e-258,\n",
       "        6.87222780e-267, -5.41506864e-306,  7.23782815e-304,\n",
       "       -8.36776111e+219, -6.61392151e-049,  7.03454621e-303,\n",
       "        6.13028656e+289, -2.55939927e+115,  5.99670103e-120,\n",
       "       -1.71824426e+047, -9.24003241e+105, -5.15350882e+223,\n",
       "        9.04638756e+288,  6.10634319e+104,  1.20107144e-144,\n",
       "        2.26601643e-038,  2.61445267e+211,  6.02956672e+305,\n",
       "       -5.10304643e-297, -5.55550990e+275, -1.99187706e+265,\n",
       "        9.02342050e+307,  1.28831596e-071, -3.47895784e-133,\n",
       "        4.10148598e-138, -2.65072146e+113,  2.81899714e-308,\n",
       "        2.81899714e-308,  2.81899714e-308,  2.81899714e-308,\n",
       "        2.81899714e-308,  2.81899714e-308, -2.33226880e+285,\n",
       "        7.07706387e-304, -6.79551057e-254,  5.10482970e+276,\n",
       "       -2.55592840e-092, -2.43596780e+069,  1.87351235e+064,\n",
       "       -1.24488450e-272, -1.27412742e+002, -1.12182374e-215,\n",
       "       -7.72330170e+101, -5.02973362e-047,  7.66378475e+031,\n",
       "       -6.38876497e+153, -1.05791668e+074,  4.90257974e+211,\n",
       "       -5.18491556e-218, -2.38913853e-253, -1.21375276e-288,\n",
       "        3.11604925e+306,  1.46200751e-116,  2.01004731e-160,\n",
       "        2.74750686e+056,  5.20135421e+283, -2.56352804e+234,\n",
       "        3.17389149e+024, -3.89499683e+290, -2.01311609e+273,\n",
       "        1.42448739e-010, -9.48116381e-012,  2.55126322e-246,\n",
       "        4.53489408e-282, -1.85102808e-304, -1.13848060e-078,\n",
       "        1.68093853e-099, -1.12831077e+235, -3.39881970e-177,\n",
       "        2.42028656e-238, -3.12920174e-035,  3.44022225e-135,\n",
       "       -1.07028047e-026,  1.94554774e-253, -1.70270958e-302,\n",
       "       -4.36730820e-214,  1.46151988e-029,  7.21579117e-304,\n",
       "       -3.18481428e+233,  4.71413738e+210,  4.50771678e+159,\n",
       "        4.50155003e-294,  2.81899714e-308,  2.81899714e-308,\n",
       "        2.81899714e-308,  2.81899714e-308,  2.81899714e-308,\n",
       "       -7.14107581e+305,  7.26354476e-304, -1.19994964e-155,\n",
       "       -1.93654618e-225,  4.21837684e-138, -2.26684191e+023,\n",
       "       -3.06242658e+078, -5.38451195e+132,  8.76597926e-008,\n",
       "        8.15227795e-020,  1.25386721e+036, -2.18318803e-035,\n",
       "        1.55141420e+203,  1.29915656e-042,  3.96079111e-233,\n",
       "       -4.62823611e+011,  1.52452067e+200,  1.22918977e-050,\n",
       "        6.71813171e+240,  1.21781368e+290,  1.68292166e+274,\n",
       "       -5.35266400e+165, -2.16135444e+254, -5.51890140e-200,\n",
       "       -7.04540857e+218, -1.20107090e+284, -1.48573303e+207,\n",
       "        1.14807213e+203,  4.34099498e+232, -1.66255133e-081,\n",
       "       -7.68286543e+261, -1.01330905e-117,  2.48551360e-020,\n",
       "        2.18975148e+138,  9.76518403e-303,  3.90861689e+267,\n",
       "        3.75254145e-205,  7.41247323e-227, -3.55522575e-202,\n",
       "       -3.84025239e-080,  1.02673598e-067,  7.45760949e-305,\n",
       "       -5.62741955e+219, -5.83166691e-244, -5.71682599e-162,\n",
       "       -6.68895772e+297,  2.80499768e-272, -1.25827030e-120,\n",
       "       -6.67094727e-058,  3.10330046e+035, -8.05192668e+231,\n",
       "        1.38069099e+222, -1.77127524e-261, -3.84083358e+191,\n",
       "       -3.13578749e+262, -2.51834062e+212,  6.88957362e-100,\n",
       "        1.23709810e-043, -4.69912841e+225,  8.21500507e-109,\n",
       "        7.17717064e-304, -7.32027653e+307,  2.59095395e-005,\n",
       "       -5.40800396e-008,  2.28984257e-066,  2.54529606e-039,\n",
       "        2.47843491e-078,  5.45879847e+183, -3.13043404e+234,\n",
       "        4.42832529e+055, -4.48845397e-128, -1.83273404e+301,\n",
       "        6.77599690e-032, -5.36771998e+272, -1.18701135e-087,\n",
       "        2.71795900e+067,  6.61392523e-220,  3.14524202e-018,\n",
       "       -8.63646819e-250, -3.50601437e-258,  3.37168606e+193,\n",
       "        1.44322669e+119,  1.46293900e-253, -9.09258753e+257,\n",
       "        3.15629279e-212,  3.15629279e-212,  3.15629279e-212,\n",
       "        3.15629279e-212,  3.15629279e-212, -1.99531677e+213,\n",
       "       -2.32128643e-243, -2.55820954e+171, -1.06665201e-299,\n",
       "        1.04016711e-138,  2.93530545e+006, -2.40416557e-080,\n",
       "        1.69367518e+128,  4.66600471e+070,  1.02776129e-029,\n",
       "        8.91817157e-046, -1.38753863e-278, -7.72170109e+196,\n",
       "       -1.11265431e+032,  2.47061269e+133, -1.62418075e-023,\n",
       "       -5.22461142e+185,  1.17383339e-043,  7.11945126e-304,\n",
       "        1.36868756e-231, -1.36285449e+173,  3.95084890e+301,\n",
       "        7.19694692e-285, -8.53583420e+304,  7.25015512e-304,\n",
       "       -2.02494914e+162, -1.14790817e-243, -5.28453936e+036,\n",
       "       -6.31620841e+184, -3.08043770e+111, -1.29853880e+198,\n",
       "       -1.07235824e+055, -6.21100947e+270, -6.32948282e+293,\n",
       "        7.21878532e+252, -4.81762018e-071,  4.25071469e+151,\n",
       "       -4.24430823e+010, -2.49143891e+159, -1.48071266e-152,\n",
       "       -9.12054602e+236, -5.59465796e-301, -3.74720672e+092,\n",
       "       -1.53248074e-194, -2.92924938e+214,  2.37476727e+201,\n",
       "       -1.57920705e+302,  9.37712509e-209,  7.62722860e-005,\n",
       "       -2.95865333e-092, -7.15261641e-308, -6.66498792e+134,\n",
       "        7.08282971e-304, -7.39491291e+270,  7.67549808e+191,\n",
       "       -9.00014738e+092,  6.09266042e-089, -2.38574975e+284,\n",
       "       -4.44450285e-002, -1.33906682e-155, -1.74215735e-048,\n",
       "       -3.85317607e-234, -5.20104947e-039, -1.07631525e+099,\n",
       "        4.02562434e-010,  1.42358293e-213,  3.41577354e-099,\n",
       "        1.56355267e-052,  1.19637781e-300, -3.19286554e+235,\n",
       "       -8.21401694e+304, -3.05710691e+292,  9.14150860e-199,\n",
       "       -6.65524460e-196,  7.12828850e-067,  9.87508139e-021,\n",
       "        1.71082350e-119,  5.00909778e-251,  6.89759840e+032,\n",
       "       -2.28464090e-242, -1.90815806e+127,  5.41083468e+178,\n",
       "       -1.19189451e+195,  6.66424731e-153,  4.99158400e-211,\n",
       "        4.99158400e-211,  4.99158400e-211,  4.99158400e-211,\n",
       "        4.99158400e-211,  4.99158400e-211,  4.99158400e-211,\n",
       "       -4.15269159e-251,  9.90787992e-156, -3.50003256e+218,\n",
       "        1.82415113e+293, -2.29965361e+083,  6.49651791e-081,\n",
       "        7.05035020e-084,  1.80071783e-216, -1.10006351e+153,\n",
       "       -8.22760696e+157,  1.02939918e-221, -6.17754882e-198,\n",
       "       -6.19186308e-232, -3.81262100e+305, -2.36864134e+234,\n",
       "       -5.45210729e-286, -2.09227226e-093, -3.18724220e-268,\n",
       "        1.19148654e+036,  5.47835511e+304,  1.23712293e+107,\n",
       "       -5.31158111e+232, -4.84285051e+268, -4.18869674e+300,\n",
       "        3.06896812e-111, -6.47007804e-145, -6.47007803e-145,\n",
       "       -6.47007803e-145, -6.47007803e-145, -6.47007803e-145,\n",
       "       -6.47007803e-145, -6.47007803e-145, -7.89423906e+028,\n",
       "        4.27904898e-155, -1.17785460e+077,  9.07376447e+216,\n",
       "        3.31039763e+175,  2.57561819e-265,  4.01941419e-024,\n",
       "        2.22255740e+000, -3.97543998e-289,  1.09274645e+303,\n",
       "        3.24788691e+135, -7.55700604e-262, -1.68155485e+278,\n",
       "        2.68241127e+004,  3.06061347e-064,  1.11337479e-101,\n",
       "        7.14525133e-304, -1.12790024e-154,  5.26080801e+124,\n",
       "        5.25515172e+173,  1.82925980e+105,  1.37720455e-133,\n",
       "       -2.11630980e-059, -3.11212145e+053, -5.82767859e+000,\n",
       "        1.19062493e+064,  3.91357441e-106, -5.38012364e+188,\n",
       "        3.18622303e-241,  7.07316208e-304, -1.87722869e+055,\n",
       "        8.82854784e-277,  1.25147050e-226,  7.16272437e-196,\n",
       "        2.57589214e+072, -6.73484504e-306, -1.29277932e-305,\n",
       "       -1.29277932e-305, -1.29277932e-305, -1.29277932e-305,\n",
       "       -1.29277932e-305, -4.16095928e-046,  2.92913096e+299,\n",
       "       -1.68050155e+248,  2.04687660e-041, -9.57926622e-122,\n",
       "       -3.14756728e-199,  1.06120812e+088,  4.71823095e-066,\n",
       "        4.26623940e+214, -8.23494142e+168, -1.41759243e-064,\n",
       "       -6.08334962e+091,  6.09097007e+156,  1.18878602e+003,\n",
       "       -1.50560872e+000,  7.25685002e-304,  1.25278241e+251,\n",
       "        1.06927116e+306, -8.93982253e-184,  4.50793664e+282,\n",
       "       -3.49860284e+306,  5.07580547e-299,  3.93081319e-010,\n",
       "        2.97541800e+250, -5.48018999e+075,  2.21256805e-003,\n",
       "        1.23928279e+269, -6.47165794e+260,  9.21506280e-273,\n",
       "       -2.19068390e+303,  1.74223226e+261, -1.86616617e+035,\n",
       "       -7.72878862e+139, -1.18844390e-194,  1.14343008e-019,\n",
       "       -8.45566326e+017, -4.67731100e+306, -8.23461719e-251,\n",
       "        2.58763686e+152, -3.64655648e+307, -7.74594082e-304,\n",
       "        1.69920335e-001, -5.02746624e+005,  4.37692168e-155,\n",
       "       -2.34083217e-049, -9.17140330e-241, -3.62573664e+117,\n",
       "        1.34110774e+154,  7.14938841e-007,  8.09262960e-049,\n",
       "       -6.18583798e-292,  3.77869437e-213, -4.70024162e-196,\n",
       "       -2.20115298e+243,  6.68585784e+284,  7.02365701e-097,\n",
       "        1.09184304e-118, -6.72603968e+028,  7.24325886e+264,\n",
       "        8.57219475e-153, -8.47794913e+148,  7.19590278e-304,\n",
       "       -5.77734893e+201,  4.02211598e-270, -7.06955727e+027,\n",
       "       -2.09736075e-064,  2.65440439e-029,  1.72418358e+192,\n",
       "       -1.14083241e+193, -6.87161293e-307, -1.06094984e+091,\n",
       "        3.00641090e+284, -2.61335419e+215, -5.98054139e+197,\n",
       "       -7.18934035e-071,  1.47476022e+289, -4.76793628e+153,\n",
       "        3.55828730e+189, -5.72325608e+225, -1.02240021e-141,\n",
       "       -3.85057043e-144, -3.85057043e-144, -3.85057043e-144,\n",
       "       -3.85057043e-144, -3.85057043e-144,  2.15124774e+306,\n",
       "        1.00808503e+081,  5.38415519e+288,  1.96167818e-013,\n",
       "        5.70663827e-201, -3.54126853e+122,  4.24508371e+246,\n",
       "        6.22649393e-044,  1.91176179e-106, -1.03079260e-255,\n",
       "        5.02172293e+307, -5.41644937e+269, -1.75179183e-019,\n",
       "        3.09614531e+193,  7.63499915e-027,  9.43998169e-049,\n",
       "        1.00400659e-249, -3.69024654e+117, -6.77073318e+156,\n",
       "       -3.68356014e+097,  6.00993887e+255,  2.38389876e-018,\n",
       "        2.62803671e-104,  7.07901000e-251, -1.53559825e+296,\n",
       "       -1.72025567e+018,  3.84081904e+035, -4.17262812e+202,\n",
       "        1.21176258e+034, -2.17223268e+236, -6.29845828e+304,\n",
       "       -2.39360343e+053,  4.49351459e+307,  3.93221000e-112,\n",
       "        6.07179562e-181,  4.81983926e-110,  1.27901245e-109,\n",
       "       -8.15065113e+111, -1.89279885e-260, -1.89279885e-260,\n",
       "       -1.89279885e-260, -1.89279885e-260, -1.89279885e-260,\n",
       "       -1.89279885e-260, -1.89279885e-260, -1.89279885e-260,\n",
       "       -1.89279885e-260, -1.89279885e-260, -1.89279885e-260,\n",
       "       -1.89279885e-260, -1.89279885e-260, -1.89279885e-260,\n",
       "       -1.89279885e-260, -1.89279885e-260, -1.89279885e-260,\n",
       "       -1.89279885e-260, -1.89279885e-260, -1.89279885e-260,\n",
       "       -1.89279885e-260, -1.89279885e-260, -1.89279885e-260,\n",
       "       -1.89279885e-260, -1.89279885e-260, -1.89279885e-260,\n",
       "       -1.89279885e-260])"
      ]
     },
     "execution_count": 40,
     "metadata": {},
     "output_type": "execute_result"
    }
   ],
   "source": [
    "import numpy as np\n",
    "\n",
    "pic3 = np.fromfile(('3.jpg'))\n",
    "pic3"
   ]
  }
 ],
 "metadata": {
  "kernelspec": {
   "display_name": "Python 3",
   "language": "python",
   "name": "python3"
  },
  "language_info": {
   "codemirror_mode": {
    "name": "ipython",
    "version": 3
   },
   "file_extension": ".py",
   "mimetype": "text/x-python",
   "name": "python",
   "nbconvert_exporter": "python",
   "pygments_lexer": "ipython3",
   "version": "3.6.2"
  }
 },
 "nbformat": 4,
 "nbformat_minor": 2
}
